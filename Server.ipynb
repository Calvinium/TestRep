{
 "cells": [
  {
   "cell_type": "code",
   "execution_count": null,
   "metadata": {},
   "outputs": [
    {
     "name": "stdout",
     "output_type": "stream",
     "text": [
      "jalan 8080\n"
     ]
    }
   ],
   "source": [
    "from http.server import HTTPServer, SimpleHTTPRequestHandler\n",
    "import ssl\n",
    "import base64\n",
    "\n",
    "userName=\"admin\"\n",
    "password=\"10101\"\n",
    "authkey = userName+\":\"+password\n",
    "authkey_b64 = \"Basic \" + str(base64.b64encode(authkey.encode(\"utf-8\")),\"utf-8\")\n",
    "\n",
    "class HTTPNewHandler(SimpleHTTPRequestHandler):\n",
    "    def do_HEAD(self):\n",
    "        self.send_response(200)\n",
    "        self.send_header('Content-type','text/html')\n",
    "        self.end_headers()\n",
    "        \n",
    "    def do_AUTHHEAD(self):\n",
    "        self.send_response(401)\n",
    "        self.send_header('WWW-Authenticate','Basic realm=\\\"Test\\\"')\n",
    "        self.send_header('Content-type','text/html')\n",
    "        self.end_headers()\n",
    "        \n",
    "    def do_GET(self):\n",
    "        if self.headers.get(\"authorization\") == None:\n",
    "            self.do_AUTHHEAD()\n",
    "            self.wfile.write(b\"no authorization\")\n",
    "            pass\n",
    "            \n",
    "        elif self.headers.get(\"authorization\") == authkey_b64:\n",
    "            return SimpleHTTPRequestHandler.do_GET(self)\n",
    "            pass\n",
    "        else:\n",
    "            self.do_AUTHHEAD()\n",
    "            self.wfile.write(b\"wrong password\")\n",
    "            pass\n",
    "\n",
    "PORT = 8080\n",
    "\n",
    "with HTTPServer((\"localhost\",PORT), HTTPNewHandler) as httpd:\n",
    "    print (\"jalan\",PORT)\n",
    "    httpd.socket = ssl.wrap_socket(httpd.socket,keyfile='./key.pem',certfile='./certificate.pem',server_side=True)\n",
    "    httpd.serve_forever()"
   ]
  },
  {
   "cell_type": "code",
   "execution_count": 3,
   "metadata": {},
   "outputs": [
    {
     "name": "stdout",
     "output_type": "stream",
     "text": [
      "['/etc/ssl/certs']\n"
     ]
    }
   ],
   "source": [
    "from OpenSSL import SSL \n",
    " \n",
    "print (SSL._CERTIFICATE_PATH_LOCATIONS)"
   ]
  },
  {
   "cell_type": "code",
   "execution_count": null,
   "metadata": {},
   "outputs": [],
   "source": []
  }
 ],
 "metadata": {
  "kernelspec": {
   "display_name": "Python 3",
   "language": "python",
   "name": "python3"
  },
  "language_info": {
   "codemirror_mode": {
    "name": "ipython",
    "version": 3
   },
   "file_extension": ".py",
   "mimetype": "text/x-python",
   "name": "python",
   "nbconvert_exporter": "python",
   "pygments_lexer": "ipython3",
   "version": "3.7.3"
  }
 },
 "nbformat": 4,
 "nbformat_minor": 2
}
